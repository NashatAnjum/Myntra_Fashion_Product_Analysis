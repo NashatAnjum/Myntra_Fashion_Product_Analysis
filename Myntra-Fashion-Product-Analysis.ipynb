{
 "cells": [
  {
   "cell_type": "markdown",
   "id": "249df05b-8780-4fc4-aa5f-33bc428b2378",
   "metadata": {},
   "source": [
    "Importing libraries"
   ]
  },
  {
   "cell_type": "code",
   "execution_count": 11,
   "id": "1c1638ae-96d0-40c1-8993-c26400edecee",
   "metadata": {},
   "outputs": [],
   "source": [
    "import pandas as pd \n",
    "import numpy as np\n",
    "import matplotlib.pyplot as plt\n",
    "import seaborn as sns"
   ]
  },
  {
   "cell_type": "code",
   "execution_count": 12,
   "id": "5afa3052-c615-4887-b53f-ec42e79ce70b",
   "metadata": {},
   "outputs": [],
   "source": [
    "df = pd.read_csv('myntra_products_catalog.csv')"
   ]
  },
  {
   "cell_type": "code",
   "execution_count": 13,
   "id": "e45e85b3-fd00-426f-b3db-1f92dd0fb2e8",
   "metadata": {},
   "outputs": [
    {
     "data": {
      "text/html": [
       "<div>\n",
       "<style scoped>\n",
       "    .dataframe tbody tr th:only-of-type {\n",
       "        vertical-align: middle;\n",
       "    }\n",
       "\n",
       "    .dataframe tbody tr th {\n",
       "        vertical-align: top;\n",
       "    }\n",
       "\n",
       "    .dataframe thead th {\n",
       "        text-align: right;\n",
       "    }\n",
       "</style>\n",
       "<table border=\"1\" class=\"dataframe\">\n",
       "  <thead>\n",
       "    <tr style=\"text-align: right;\">\n",
       "      <th></th>\n",
       "      <th>ProductID</th>\n",
       "      <th>ProductName</th>\n",
       "      <th>ProductBrand</th>\n",
       "      <th>Gender</th>\n",
       "      <th>Price (INR)</th>\n",
       "      <th>NumImages</th>\n",
       "      <th>Description</th>\n",
       "      <th>PrimaryColor</th>\n",
       "    </tr>\n",
       "  </thead>\n",
       "  <tbody>\n",
       "    <tr>\n",
       "      <th>0</th>\n",
       "      <td>10017413</td>\n",
       "      <td>DKNY Unisex Black &amp; Grey Printed Medium Trolle...</td>\n",
       "      <td>DKNY</td>\n",
       "      <td>Unisex</td>\n",
       "      <td>11745</td>\n",
       "      <td>7</td>\n",
       "      <td>Black and grey printed medium trolley bag, sec...</td>\n",
       "      <td>Black</td>\n",
       "    </tr>\n",
       "    <tr>\n",
       "      <th>1</th>\n",
       "      <td>10016283</td>\n",
       "      <td>EthnoVogue Women Beige &amp; Grey Made to Measure ...</td>\n",
       "      <td>EthnoVogue</td>\n",
       "      <td>Women</td>\n",
       "      <td>5810</td>\n",
       "      <td>7</td>\n",
       "      <td>Beige &amp; Grey made to measure kurta with churid...</td>\n",
       "      <td>Beige</td>\n",
       "    </tr>\n",
       "    <tr>\n",
       "      <th>2</th>\n",
       "      <td>10009781</td>\n",
       "      <td>SPYKAR Women Pink Alexa Super Skinny Fit High-...</td>\n",
       "      <td>SPYKAR</td>\n",
       "      <td>Women</td>\n",
       "      <td>899</td>\n",
       "      <td>7</td>\n",
       "      <td>Pink coloured wash 5-pocket high-rise cropped ...</td>\n",
       "      <td>Pink</td>\n",
       "    </tr>\n",
       "    <tr>\n",
       "      <th>3</th>\n",
       "      <td>10015921</td>\n",
       "      <td>Raymond Men Blue Self-Design Single-Breasted B...</td>\n",
       "      <td>Raymond</td>\n",
       "      <td>Men</td>\n",
       "      <td>5599</td>\n",
       "      <td>5</td>\n",
       "      <td>Blue self-design bandhgala suitBlue self-desig...</td>\n",
       "      <td>Blue</td>\n",
       "    </tr>\n",
       "    <tr>\n",
       "      <th>4</th>\n",
       "      <td>10017833</td>\n",
       "      <td>Parx Men Brown &amp; Off-White Slim Fit Printed Ca...</td>\n",
       "      <td>Parx</td>\n",
       "      <td>Men</td>\n",
       "      <td>759</td>\n",
       "      <td>5</td>\n",
       "      <td>Brown and off-white printed casual shirt, has ...</td>\n",
       "      <td>White</td>\n",
       "    </tr>\n",
       "  </tbody>\n",
       "</table>\n",
       "</div>"
      ],
      "text/plain": [
       "   ProductID                                        ProductName ProductBrand  \\\n",
       "0   10017413  DKNY Unisex Black & Grey Printed Medium Trolle...         DKNY   \n",
       "1   10016283  EthnoVogue Women Beige & Grey Made to Measure ...   EthnoVogue   \n",
       "2   10009781  SPYKAR Women Pink Alexa Super Skinny Fit High-...       SPYKAR   \n",
       "3   10015921  Raymond Men Blue Self-Design Single-Breasted B...      Raymond   \n",
       "4   10017833  Parx Men Brown & Off-White Slim Fit Printed Ca...         Parx   \n",
       "\n",
       "   Gender  Price (INR)  NumImages  \\\n",
       "0  Unisex        11745          7   \n",
       "1   Women         5810          7   \n",
       "2   Women          899          7   \n",
       "3     Men         5599          5   \n",
       "4     Men          759          5   \n",
       "\n",
       "                                         Description PrimaryColor  \n",
       "0  Black and grey printed medium trolley bag, sec...        Black  \n",
       "1  Beige & Grey made to measure kurta with churid...        Beige  \n",
       "2  Pink coloured wash 5-pocket high-rise cropped ...         Pink  \n",
       "3  Blue self-design bandhgala suitBlue self-desig...         Blue  \n",
       "4  Brown and off-white printed casual shirt, has ...        White  "
      ]
     },
     "execution_count": 13,
     "metadata": {},
     "output_type": "execute_result"
    }
   ],
   "source": [
    "df.head(5)"
   ]
  },
  {
   "cell_type": "code",
   "execution_count": 14,
   "id": "b6fd734e-7bee-44a3-b656-da1b4fd29a65",
   "metadata": {},
   "outputs": [
    {
     "name": "stdout",
     "output_type": "stream",
     "text": [
      "<class 'pandas.core.frame.DataFrame'>\n",
      "RangeIndex: 12491 entries, 0 to 12490\n",
      "Data columns (total 8 columns):\n",
      " #   Column        Non-Null Count  Dtype \n",
      "---  ------        --------------  ----- \n",
      " 0   ProductID     12491 non-null  int64 \n",
      " 1   ProductName   12491 non-null  object\n",
      " 2   ProductBrand  12491 non-null  object\n",
      " 3   Gender        12491 non-null  object\n",
      " 4   Price (INR)   12491 non-null  int64 \n",
      " 5   NumImages     12491 non-null  int64 \n",
      " 6   Description   12491 non-null  object\n",
      " 7   PrimaryColor  11597 non-null  object\n",
      "dtypes: int64(3), object(5)\n",
      "memory usage: 780.8+ KB\n"
     ]
    }
   ],
   "source": [
    "df.info()"
   ]
  },
  {
   "cell_type": "code",
   "execution_count": 15,
   "id": "ce425994-7a0e-4208-8590-59ec9019b95c",
   "metadata": {},
   "outputs": [
    {
     "data": {
      "text/plain": [
       "ProductID         0\n",
       "ProductName       0\n",
       "ProductBrand      0\n",
       "Gender            0\n",
       "Price (INR)       0\n",
       "NumImages         0\n",
       "Description       0\n",
       "PrimaryColor    894\n",
       "dtype: int64"
      ]
     },
     "execution_count": 15,
     "metadata": {},
     "output_type": "execute_result"
    }
   ],
   "source": [
    "df.isnull().sum()"
   ]
  },
  {
   "cell_type": "markdown",
   "id": "2f897e94-79b1-4125-ae31-afa3f03e4c44",
   "metadata": {},
   "source": [
    "PrimaryColor is the only column with null values.We can fill these null values with other"
   ]
  },
  {
   "cell_type": "code",
   "execution_count": 17,
   "id": "b68e87d5-95c7-45f5-907e-a0d9260734c1",
   "metadata": {},
   "outputs": [],
   "source": [
    "#Filling the null values in primarycolor with other\n",
    "df['PrimaryColor'] = df['PrimaryColor'].fillna('Other')"
   ]
  },
  {
   "cell_type": "code",
   "execution_count": 18,
   "id": "b650da60-c9bb-48c1-9537-d400117dff1d",
   "metadata": {},
   "outputs": [],
   "source": [
    "#converting all letter to lowercase\n",
    "#map() is a python method that applies a function element-wise to every value in the DataFrame.\n",
    "df = df.map(lambda s:s.lower() if type(s) == str else s)"
   ]
  },
  {
   "cell_type": "code",
   "execution_count": 19,
   "id": "cc36d0e3-043e-4928-9df0-4b695bec84cd",
   "metadata": {},
   "outputs": [],
   "source": [
    "# removing leading trailing spaces in primarycolor\n",
    "df['PrimaryColor'] = df['PrimaryColor'].str.lstrip()"
   ]
  },
  {
   "cell_type": "markdown",
   "id": "16caf5cf-d207-4443-a326-f24f4d6ad179",
   "metadata": {},
   "source": [
    "Let us check the differrent brands available"
   ]
  },
  {
   "cell_type": "code",
   "execution_count": 21,
   "id": "23f373f6-ace9-44db-b6bc-d1f1bf9bd11e",
   "metadata": {},
   "outputs": [
    {
     "name": "stdout",
     "output_type": "stream",
     "text": [
      "various brands available :  ['dkny' 'ethnovogue' 'spykar' 'raymond' 'parx' 'showoff' 'kenneth cole'\n",
      " 'police' 'vishudh' 'being human' 'homesake' 'sej by nisha gupta'\n",
      " 'yak yak' 'parfait' 'michael kors' 'highlander' 'jewel junction' 'id'\n",
      " 'story@home' 'gini and jony' 'sera' 'accessher' 'alcis'\n",
      " 'difference of opinion' 'tokyo talkies' 'anna sui' 'her by invictus'\n",
      " 'soie' 'lara karen' 'urban dog' 'ahilya' 'vastramay' 'campus sutra'\n",
      " 'fido dido' 'miah decor' 'buckleup' 'peter england' 'aigner' 'lady lyka'\n",
      " 'park avenue' 'roadster' 'u.s. polo assn. denim co.' 'sweet dreams'\n",
      " 'kazo' 'stylo bug' 'bvlgari' 'qraa men' 'gas' 'with' 'zush'\n",
      " 'jbn creation' 'u.s. polo assn. kids' 'dressberry' 'colorplus' 'lakme'\n",
      " 'allen solly woman' 'palm tree' 'arrow' 'david beckham' 'mango' 'carrera'\n",
      " 'romee' 'tayhaa' 'ishin' 'shoe couture' 'harbornbay' 'keds' 'rozia'\n",
      " 'aj dezines' 'monte carlo' 'even' 'ether' 'crimsoune club'\n",
      " 'russell athletic' 'mimosa' 'puma' 'blackberrys' 'playdate' 'rocia'\n",
      " 'marvel by wear your mind' 'annabelle by pantaloons' 'berrytree'\n",
      " 'simon carter london' 'beli' 'nautica' 'jn joy' 'the silhouette store'\n",
      " 'xpose' 'mbe' 'mast & harbour' 'jc collection' 'guess' 'neudis'\n",
      " 'stylestone' 'sassafras' 'united colors of benetton' 'vlcc'\n",
      " 'kook n keech disney' 'bubblegummers' 'hoopers' 'peter england casuals'\n",
      " 'honey by pantaloons' 'pink cow' 'dorothy perkins' 'crew street'\n",
      " 'bhama couture' 'zippo' 'daffodils' 'aramis' 'c9 airwear' 'oxolloxo'\n",
      " 'soumya' 'crocs' 'carlton london' 'here&now' 'french connection'\n",
      " 'next look' 'xyxx' 'shaze' 'bitiya by bhama' 'geox' 'tulsattva'\n",
      " 'exclusivelane' 'shiseido' 'msc' 'anekaant' 'innisfree' 'wintage'\n",
      " 'locomotive' 'bene kleed' 'varanga' 'hrx by hrithik roshan' 'avira home'\n",
      " 'force 10' 'maxima' 'aapno rajasthan' 'fortune' 'moedbuille' 'blue saint'\n",
      " 'maspar' 'w' 'scorpius' 'ecko unltd' 'bering' 'healers' 'kvsfab' 'movado'\n",
      " 'cinocci' 'mitera' 'harvard' 'ojjasvi' 'wild stone' 'avant-garde paris'\n",
      " 'gliders' 'u&f' 'abhishti' 'dreamscape' 'oddcroft' 'flying machine'\n",
      " 'it luggage' 'nike' 'one friday' 'indibelle' 'dynamocks' 'arrow new york'\n",
      " 'titan' 'zoop' 'levis' 'ivoc' 'athena' 'elizabeth arden' 'arrow sport'\n",
      " 'red tape' 'panahi' 'veni vidi vici' 'code by lifestyle'\n",
      " 'fame forever by lifestyle' 'sonata' 'yuris' 'sherrif shoes' 'timesmith'\n",
      " 'cherry crumble' 'senorita' 'chutput' 'slumber jill' 'metro'\n",
      " 'marks & spencer' 'fastrack' 'dodo & moa' 'fabseasons' 'shaily'\n",
      " 'mirchi fashion' 'sergio tacchini' 'janasya' 'bossini' 'rajnandini'\n",
      " 'call it spring' 'coolers' 'chhabra 555' 'la loft' 'cottinfab'\n",
      " 'calvin klein' 'liberty' 'imyoung' 'clay craft' 'crunchy fashion'\n",
      " 'respiro' 'truebrowns' 'trend arrest' 'besiva' 'incolor' 'kraus jeans'\n",
      " 'richard parker by pantaloons' 'mali fionna' 'kryptic' 'san frissco'\n",
      " 'you got plan b' 'the kaftan company' 'simply' 'infuzze' 'sir corbett'\n",
      " 'home decor india' 'vero moda' 'be indi' 'da intimo' 'camey' 'solemio'\n",
      " 'msfq' 'forever new' 'killer' 'aurelia' 'miss chase' 'saadgi'\n",
      " 'lee cooper' 'foolzy' 'zheia' 'friskers' 'ucla' 'genie' 'femmora'\n",
      " 'fos lighting' 'firstclap' 'clovia' 'style quotient' 'rajasthan decor'\n",
      " 'sg yuvraj' 'urban tribe' 'casio' 'vrinda' 'lady stark' 'newton'\n",
      " 'bodycare' 'alvaro castagnino' 'organic harvest' 'campus'\n",
      " 'free authority' 'dennmarks' 'voylla' 'wish karo' 'mboss' 'mochi' 'elle'\n",
      " 'obsessions' 'living essence' 'giordano' 'hi rels' 'ddecor' 'invictus'\n",
      " 'evoke 1899' 'newport' 'schwarzkopf professional' 'louis philippe'\n",
      " 'panit' 'selected' 'sojanya' 'sangria' 'divine casa' 'unravel india'\n",
      " 'steenbok' 'belle fille' 'kittens' 'slub' 'blissta' 'alena' 'swhf'\n",
      " 'jump usa' 'st. ives' 'faballey' 'nucleus' 'home sparkle' 'shiloh'\n",
      " 'allen solly' 'kleio' 'maniac' 'globus' 'fourwalls'\n",
      " 'akkriti by pantaloons' 'genius' 'bohemia crystal' 'equinox'\n",
      " 'zink london' 'yash gallery' 'sparx' 'van heusen' 'yk' 'blue giraffe'\n",
      " 'silvermerc designs' 'black coffee' 'jacques lemans' 'ziyaa'\n",
      " 'skult by shahid kapoor' 'perfkt-u' 'zeal' 'cortina' 'pluss' 'v dot'\n",
      " 'shoetopia' 'eavan' 'masch sports' 'devis' 'namyaa' 'only' 'eske' 'miway'\n",
      " 'smiley world' 'maserati' 'archies' 'marie claire' 'chumbak' 'aber & q'\n",
      " 'people' 'gmf' 'abelino' 'cover story' 'karmic vision' 'bonjour'\n",
      " 'deco window' 'adiva' 'latin quarters' 'moda rapido' 'indian terrain'\n",
      " 'rare' 'soles' 'lavie' 'truffle collection' 'gap' 'karatcart' 'priyaasi'\n",
      " 'mine4nine' 'chrome & coral' 'fausto' 'adorn by nikita ladiwala'\n",
      " 'hancock' 'calvin klein jeans' 'secret temptation' 'heatwave' 'bownbee'\n",
      " 'baggit' 'force nxt' 'urbane' 'canary london' 'jack & jones' 'fancy mart'\n",
      " 'adorenite' 'hypernation' 'pantaloons junior' 'minions by kook n keech'\n",
      " 'caprese' 'suitltd' 'harpa' 'taavi' 'geroo jaipur' 'bamboo tree jewels'\n",
      " 'kappa' 'sher singh' 'morpheme remedies' 'kiddopanti' 'ants'\n",
      " 'allen cooper' 'pure home and living' 'comicsense.xyz'\n",
      " 'louis philippe sport' 'monrow' 'breya' 'rangmanch by pantaloons'\n",
      " 'wonder woman' 'melange by lifestyle' 'ceriz' 'eego italy' 'knotyy' 'mf'\n",
      " 'chemistry' 'treemoda' 'chambor' 'oomph' 'kazarmax' 'chkokko' 'duke'\n",
      " 'club york' 'bblunt' 'jewels galaxy' 'molly & michel' 'the beauty co.'\n",
      " 'libas' 'pipa bella' 'fosh' 'freehand' 'ed hardy' 'aditi wasan' 'akiva'\n",
      " 'franco leone' 'mufti' '7rainbow' 'beevee' 'yellow jeans' 'soludos'\n",
      " 'tresmode' 'bigbanana' 'rex straut jeans' 'hummel' 'e2o'\n",
      " 'cavallo by linen club' 'tommy hilfiger' 'presto' 'tistabene' 'boat'\n",
      " 'dennison' 'u.s. polo assn.' \"kurti's by menka\" 'saree mall'\n",
      " 'forca by lifestyle' 'valiosaa' 'ginger by lifestyle' 'iti'\n",
      " 'stylee lifestyle' 'jainish' 'cation' 'wrogn' 'gods'\n",
      " 'disney by wear your mind' 'calvin klein underwear' 'ayesha' 'woodland'\n",
      " 'indya' 'meriggiare' 'bianca' 'kook n keech marvel' 'just wow'\n",
      " 'golden peacock' 'rosaline' 'wildcraft' 'rubans' 'zaveri pearls'\n",
      " 'cutecumber' 'hammer' 'prettycat' 'johnny bravo by kook n keech' 'zivame'\n",
      " 'kook n keech garfield' 'tissu' 'turkish bath' 'nature casuals'\n",
      " 'unshaven' 'gio collection' 'ywc' 'kraft cellar' 'saral home'\n",
      " 'justpeachy' 'gerua' 'skechers' 'studio voylla' 'bruno manetti'\n",
      " 'invincible' 'global desi' 'yelloe' 'american crew' 'blisscovered'\n",
      " 'alina decor' 'manohari' 'aujjessa' 't-base' 'nba' 'ruf & tuf'\n",
      " 'spray ground' 'unknown by ayesha' 'wild west' 'pure play'\n",
      " 'puma motorsport' '20dresses' 'enamor' 'aerosoles' 'garmin'\n",
      " 'street style store' 'alom' 'dot & key' 'pinwheel' 'lotto' 'izod' 'ruosh'\n",
      " 'aarika' 'envy' 'reebok classic' 'fever' 'madame' '612 league' 'tossido'\n",
      " 'wisstler' 'ahika' 'jompers' 'yuuki' 'ahalyaa' 'z-zoom'\n",
      " 'van heusen woman' 'blacksmith' 'fungus' 'naari' 'van heusen sport'\n",
      " 'lady love' 'niza' 'saint g' 'hirolas' 'the pink moon' 'mish' 'vozaf'\n",
      " 'louis philippe jeans' 'indo era' 'calfnero' 'the house of tara'\n",
      " 'kids ville' 'the chennai silks' 'superdry' 'fox' 'anouk' 'off limits'\n",
      " 'frozen' 'dixcy scott' 'beardo' 'sherlock' 'fs mini klub' 'de moza'\n",
      " 'vareesha' 'zelocity' 'peanuts' 'denizen from levis' 'ferraiolo'\n",
      " 'yaadleen' 'peter england elite' 'seiko' 'tales & stories'\n",
      " 'daily life forever52' 'the vanca' 'and' 'the indian garage co' 'voyage'\n",
      " 'reebok' 'scoup' 'gnist' 'biba' 'raisin' 'aask' 'fabnest'\n",
      " 'signature sole' 'batman' 'star wars' 'swarovski' 'fugazee'\n",
      " 'kama ayurveda' 'adidas originals' 'fusion beats' 'bodha' 'peora'\n",
      " 'amante' 'naughty ninos' 'rajesh silk mills' 'adidas' 'allen solly sport'\n",
      " 'krafted with happiness' 'golden girl' 'rugsmith' 'skagen'\n",
      " 'masculino latino' 'lychee bags' 'ira soleil' 'corsica' 'instacrush'\n",
      " 'scuderia ferrari' 'superman' 'dailyobjects' 'the dry state'\n",
      " 'makeup revolution london' 'orange and orchid' 'captain america'\n",
      " 'teakwood leathers' 'ponds' 'inc 5' 'ek do dhai' 'natilene' 'obow'\n",
      " 'basics' 'esbeda' 'tag eye' 'proline active' 'fablestreet' 'amraoo'\n",
      " 'varkala silk sarees' 'lilpicks' 'lacoste' 'purple feather'\n",
      " 'furo by red chief' 'westclo' 'forever 21' 'barbie by many frocks &'\n",
      " 'khushal k' 'rangoli jaipur' 'i am for you' 'soulflower'\n",
      " 'allen solly junior' 'hubberholme' 'bollyglow' 'braun' 'dugristyle'\n",
      " 'hunter 1114' 'fila' 'vastraa fusion' 'renka' 'u.s. polo assn. women'\n",
      " 'antheaa' 'tikhi imli' 'wear your mind' 'moon dust' 'philips'\n",
      " 'aww hunnie' 'purple state' 'kidling' 'twisha' 'genius18' 'pepe jeans'\n",
      " 'plum' 'lapis o lupo' 'shingora' 'lino perros' 'revlon' 'momtobe'\n",
      " 'deyann' 'nauti nati' 'flavido' 'quiero' 'inddus' 'laceandme'\n",
      " 'maybelline' 'street 9' 'rain & rainbow' 'campana' 'toniq'\n",
      " 'oshkosh bgosh' 'qurvii' 'ulric de varens' 'bukkum' 'kid1' 'hidesign'\n",
      " 'sonari' 'wrangler' 'ives' 'noble faith' 'purys'\n",
      " 'beat london by pepe jeans' 'chopard' 'house of pataudi' 'invu' 'cat'\n",
      " 'esprit' 'prita' 'satrani' '109f' 'swiss military' 'carven'\n",
      " 'stupid cupid']\n"
     ]
    }
   ],
   "source": [
    "print(\"various brands available : \", df['ProductBrand'].unique())"
   ]
  },
  {
   "cell_type": "code",
   "execution_count": 22,
   "id": "2bf08a29-2e76-4ff9-b0fc-99ce28dbbdbf",
   "metadata": {},
   "outputs": [
    {
     "name": "stdout",
     "output_type": "stream",
     "text": [
      "Number_of_unique_brands = 677\n"
     ]
    }
   ],
   "source": [
    "number_of_unique_brands = len(df['ProductBrand'].unique())\n",
    "print('Number_of_unique_brands =', number_of_unique_brands)"
   ]
  },
  {
   "cell_type": "markdown",
   "id": "0d04f368-4cca-4a9b-b039-c8b449342a65",
   "metadata": {},
   "source": [
    "Let us check the diffent gender category"
   ]
  },
  {
   "cell_type": "code",
   "execution_count": 24,
   "id": "3631bbbc-2124-45ed-b5e6-46b6c58b6e64",
   "metadata": {},
   "outputs": [
    {
     "name": "stdout",
     "output_type": "stream",
     "text": [
      "Different_gender_category: ['unisex' 'women' 'men' 'boys' 'girls' 'unisex kids']\n"
     ]
    }
   ],
   "source": [
    "print('Different_gender_category:', df['Gender'].unique())"
   ]
  },
  {
   "cell_type": "markdown",
   "id": "30a72723-9ae5-466b-98af-490b8f15965e",
   "metadata": {},
   "source": [
    "Let us check the different colors available"
   ]
  },
  {
   "cell_type": "code",
   "execution_count": 26,
   "id": "2298db8f-8df5-4c76-995d-e4c07017aa92",
   "metadata": {},
   "outputs": [
    {
     "name": "stdout",
     "output_type": "stream",
     "text": [
      "Different primary colors available ['black' 'beige' 'pink' 'blue' 'white' 'brown' 'burgundy' 'red' 'green'\n",
      " 'other' 'maroon' 'navy' 'gold' 'yellow' 'grey' 'platinum' 'silver'\n",
      " 'khaki' 'mustard' 'lavender' 'matte' 'rose' 'charcoal' 'purple' 'orange'\n",
      " 'peach' 'magenta' 'bronze']\n"
     ]
    }
   ],
   "source": [
    "print('Different primary colors available',df['PrimaryColor'].unique())"
   ]
  },
  {
   "cell_type": "markdown",
   "id": "8dd997c1-5b94-461e-b2d4-a006b2e366fb",
   "metadata": {},
   "source": [
    "Let us check the price range available in myntra "
   ]
  },
  {
   "cell_type": "code",
   "execution_count": 28,
   "id": "2c0f9cab-4eee-47f0-98e5-d68acfea008b",
   "metadata": {},
   "outputs": [
    {
     "name": "stdout",
     "output_type": "stream",
     "text": [
      "Max price:  63090\n",
      "Min price:  90\n",
      "Average price:  1452.66\n"
     ]
    }
   ],
   "source": [
    "print('Max price: ', df['Price (INR)'].max())\n",
    "print('Min price: ',df['Price (INR)'].min())\n",
    "print('Average price: ', round(df['Price (INR)'].mean(),2))"
   ]
  },
  {
   "cell_type": "markdown",
   "id": "422e2c15-fcaf-4358-b792-a4dcb0a3aff5",
   "metadata": {},
   "source": [
    "Data visualization"
   ]
  },
  {
   "cell_type": "code",
   "execution_count": 30,
   "id": "aedcd049-8558-4604-b279-0df57ed451b3",
   "metadata": {},
   "outputs": [
    {
     "data": {
      "text/plain": [
       "<Axes: title={'center': 'top 10 brands'}, xlabel='ProductBrand'>"
      ]
     },
     "execution_count": 30,
     "metadata": {},
     "output_type": "execute_result"
    },
    {
     "data": {
      "image/png": "[encoded data removed]",
      "text/plain": [
       "<Figure size 640x480 with 1 Axes>"
      ]
     },
     "metadata": {},
     "output_type": "display_data"
    }
   ],
   "source": [
    "#Show top 10 popular brands\n",
    "\n",
    "df['ProductBrand'].value_counts()[:10].plot(kind = 'bar', title = 'top 10 brands')"
   ]
  },
  {
   "cell_type": "markdown",
   "id": "f6d4d8eb-cfc7-4900-901d-af8b19a7d366",
   "metadata": {},
   "source": [
    "SELECT ProductBrand, COUNT(*) AS BrandCount\n",
    "FROM YourTableName\n",
    "GROUP BY ProductBrand\n",
    "ORDER BY BrandCount DESC\n",
    "LIMIT 10;"
   ]
  },
  {
   "cell_type": "code",
   "execution_count": 31,
   "id": "32d40c03-561f-450e-9bcd-11646fafab4d",
   "metadata": {},
   "outputs": [
    {
     "data": {
      "text/plain": [
       "<Axes: ylabel='ProductID'>"
      ]
     },
     "execution_count": 31,
     "metadata": {},
     "output_type": "execute_result"
    },
    {
     "data": {
      "image/png": "[encoded data removed]",
      "text/plain": [
       "<Figure size 640x480 with 1 Axes>"
      ]
     },
     "metadata": {},
     "output_type": "display_data"
    }
   ],
   "source": [
    "#available products with respect to gender\n",
    "\n",
    "df.groupby('Gender')['ProductID'].count().plot.pie(autopct = \"%1.1f%%\") "
   ]
  },
  {
   "cell_type": "markdown",
   "id": "8f4cbfbc-e55c-4fe4-a76e-bf938913567d",
   "metadata": {},
   "source": [
    "SELECT \n",
    "    Gender,\n",
    "    COUNT(ProductID) AS ProductCount,\n",
    "    (COUNT(ProductID) * 100.0 / SUM(COUNT(ProductID)) OVER ()) AS Percentage\n",
    "FROM \n",
    "    your_table\n",
    "GROUP BY \n",
    "    Gender;\n"
   ]
  },
  {
   "cell_type": "code",
   "execution_count": 73,
   "id": "66ceb6eb-a218-4c05-8446-c667d4058635",
   "metadata": {},
   "outputs": [
    {
     "data": {
      "text/plain": [
       "<Axes: title={'center': 'preferred color'}, xlabel='PrimaryColor'>"
      ]
     },
     "execution_count": 73,
     "metadata": {},
     "output_type": "execute_result"
    },
    {
     "data": {
      "image/png": "[encoded data removed]",
      "text/plain": [
       "<Figure size 640x480 with 1 Axes>"
      ]
     },
     "metadata": {},
     "output_type": "display_data"
    }
   ],
   "source": [
    "#most preferrrable color\n",
    "df.groupby('PrimaryColor')['ProductID'].count().sort_values(ascending= 0).plot(kind ='bar', title ='preferred color')"
   ]
  },
  {
   "cell_type": "markdown",
   "id": "34d18192-7db9-4069-be1d-dc97730436b5",
   "metadata": {},
   "source": [
    "SELECT \n",
    "    PrimaryColor, \n",
    "    COUNT(ProductID) AS ProductCount\n",
    "FROM \n",
    "    Products\n",
    "GROUP BY \n",
    "    PrimaryColor\n",
    "ORDER BY \n",
    "    ProductCount DESC;"
   ]
  }
 ],
 "metadata": {
  "kernelspec": {
   "display_name": "Python 3 (ipykernel)",
   "language": "python",
   "name": "python3"
  },
  "language_info": {
   "codemirror_mode": {
    "name": "ipython",
    "version": 3
   },
   "file_extension": ".py",
   "mimetype": "text/x-python",
   "name": "python",
   "nbconvert_exporter": "python",
   "pygments_lexer": "ipython3",
   "version": "3.12.4"
  }
 },
 "nbformat": 4,
 "nbformat_minor": 5
}
